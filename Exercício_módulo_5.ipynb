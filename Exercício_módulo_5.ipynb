{
  "nbformat": 4,
  "nbformat_minor": 0,
  "metadata": {
    "colab": {
      "provenance": []
    },
    "kernelspec": {
      "name": "python3",
      "display_name": "Python 3"
    },
    "language_info": {
      "name": "python"
    }
  },
  "cells": [
    {
      "cell_type": "code",
      "source": [
        "while True:\n",
        "\n",
        "  num1 = input(\"Informe o primeiro número:\")\n",
        "  num2 = input(\"Informe o segundo número:\")\n",
        "  print(\"Os números informados foram:\",num1,\"e\",num2)\n",
        "\n",
        "  num1_convert = float(num1)\n",
        "  num2_convert = float(num2)\n",
        "\n",
        "  operacoes = [\"Soma\",\"Subatração\",\"Multiplicação\",\"Divisão\",\"Potência\",\"Todas as Operações\"]\n",
        "\n",
        "  while True:\n",
        "\n",
        "    print(\"Selecione a Operação Matemática Desejada:\")\n",
        "    for i, operacao in enumerate(operacoes):\n",
        "      print(f\"{i+1}. {operacao}\")\n",
        "\n",
        "    escolha = int(input(\"Digite o Número da Operação Desejada:\"))\n",
        "\n",
        "    if escolha < 1 or escolha > 6:\n",
        "      print(\"Opção Inválida! Escolha uma operação entre 1 e 6.\")\n",
        "    else:\n",
        "      break\n",
        "\n",
        "  if escolha == 1:\n",
        "    resultado = num1_convert + num2_convert\n",
        "    print(\"Resultado da Soma:\",resultado)\n",
        "  elif escolha == 2:\n",
        "    resultado = num1_convert - num2_convert\n",
        "    print(\"Resultado da Subtração:\",resultado)\n",
        "  elif escolha == 3:\n",
        "    resultado = num1_convert * num2_convert\n",
        "    print(\"Resultado da Multiplicação:\",resultado)\n",
        "  elif escolha == 4:\n",
        "    if num2_convert != 0:\n",
        "      resultado = num1_convert / num2_convert\n",
        "      print(\"Resultado da Divisão:\",resultado)\n",
        "    else:\n",
        "      print(\"Divisão: Não é possível realizar divisão por 0\")\n",
        "  elif escolha == 5:\n",
        "    resultado = num1_convert ** num2_convert\n",
        "    print(\"Resultado da Potência:\",resultado)\n",
        "  elif escolha == 6:\n",
        "    print(\"Todas as operações básicas que podem ser realizadas com estes números são:\")\n",
        "    soma = num1_convert + num2_convert\n",
        "    print(\"Soma:\",num1_convert,\"+\",num2_convert,\"=\",soma)\n",
        "    subt = num1_convert - num2_convert\n",
        "    print(\"Subtração:\",num1_convert,\"-\",num2_convert,\"=\",subt)\n",
        "    mult = num1_convert * num2_convert\n",
        "    print(\"Multiplicação:\",num1_convert,\"*\",num2_convert,\"=\",mult)\n",
        "    if num2_convert != 0:\n",
        "      div = num1_convert / num2_convert\n",
        "      print(\"Divisão:\",num1_convert,\"/\",num2_convert,\"=\",div)\n",
        "    else:\n",
        "      print(\"Divisão: Não é possível realizar divisão por 0\")\n",
        "    potencia = num1_convert ** num2_convert\n",
        "    print(\"Potência:\",num1_convert,\"**\",num2_convert,\"=\",potencia)\n",
        "\n",
        "  repetir = input(\"Deseja informar outros números? (s/n)\").lower().strip()\n",
        "  if repetir == \"n\":\n",
        "      print(\"Encerrando o programa.\")\n",
        "      break"
      ],
      "metadata": {
        "id": "vSJW8pKwF7zK"
      },
      "execution_count": null,
      "outputs": []
    }
  ]
}